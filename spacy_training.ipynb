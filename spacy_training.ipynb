{
 "cells": [
  {
   "cell_type": "code",
   "execution_count": 3,
   "metadata": {},
   "outputs": [],
   "source": [
    "import spacy\n",
    "import os\n",
    "\n",
    "# Load the best model from Spacy\n",
    "nlp = spacy.load(r\"./output/model-best\") \n",
    "\n",
    "# either spacy-train300 or spacy-bg300\n",
    "input_folder = \"./spacy-train300/\"\n",
    "\n",
    "# Loop through all the files in the input folder to extract the entities and write the .ann files\n",
    "for file in os.listdir(input_folder):\n",
    "    if file.endswith(\".txt\"):\n",
    "        filepath = os.path.join(input_folder, file)\n",
    "        with open(filepath, \"r\") as f:\n",
    "            text = f.read()\n",
    "            \n",
    "            doc = nlp(text)\n",
    "\n",
    "            ents = []\n",
    "\n",
    "            for ent in doc.ents:\n",
    "                ents.append((ent.text, ent.start_char, ent.end_char, ent.label_))\n",
    "                        \n",
    "            output_txt = os.path.join(input_folder, file)\n",
    "\n",
    "            output_ann = os.path.join(input_folder, file.replace(\".txt\",\".ann\"))\n",
    "            with open(output_ann, \"w\") as o:\n",
    "                i = 1\n",
    "                for t, s, e, l in ents:\n",
    "                    o.write(f\"T{i}\\t{l} {s} {e}\\t{t}\\n\") # write the entities to the .ann file\n",
    "                    i+=1\n",
    "\n",
    "# now the annotation files have been put into the folders ready to train the classifier."
   ]
  }
 ],
 "metadata": {
  "kernelspec": {
   "display_name": "Python 3",
   "language": "python",
   "name": "python3"
  },
  "language_info": {
   "codemirror_mode": {
    "name": "ipython",
    "version": 3
   },
   "file_extension": ".py",
   "mimetype": "text/x-python",
   "name": "python",
   "nbconvert_exporter": "python",
   "pygments_lexer": "ipython3",
   "version": "3.11.3"
  }
 },
 "nbformat": 4,
 "nbformat_minor": 2
}
