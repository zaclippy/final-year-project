{
 "cells": [
  {
   "cell_type": "code",
   "execution_count": 62,
   "metadata": {},
   "outputs": [],
   "source": [
    "import os\n",
    "\n",
    "# Set the path to the data directory\n",
    "base_dir = './llm-dev/extra50_gpt/caso'"
   ]
  },
  {
   "cell_type": "markdown",
   "metadata": {},
   "source": [
    "As the GPT API produced unfavorable results, a compromise will be made, namely to use ChatGPT 4.0 to input a batch of files at a time, and the results will be inputted into the following code to create the .ann annotation files."
   ]
  },
  {
   "cell_type": "code",
   "execution_count": 63,
   "metadata": {},
   "outputs": [],
   "source": [
    "def annotate_file(text_file_path, gpt_response):\n",
    "    # convert the text file to its annotation file\n",
    "    ann_file_path = text_file_path.replace('.txt', '.ann')\n",
    "    with open(ann_file_path, 'w') as file:\n",
    "        file.write(gpt_response)\n",
    "    print(f'Annotated file saved to {ann_file_path}')\n",
    "    "
   ]
  },
  {
   "cell_type": "code",
   "execution_count": 64,
   "metadata": {},
   "outputs": [
    {
     "name": "stdout",
     "output_type": "stream",
     "text": [
      "['./llm-dev/extra50_gpt/caso/caso_clinico_radiologia579.txt', './llm-dev/extra50_gpt/caso/caso_clinico_radiologia580.txt', './llm-dev/extra50_gpt/caso/caso_clinico_radiologia581.txt', './llm-dev/extra50_gpt/caso/caso_clinico_radiologia582.txt', './llm-dev/extra50_gpt/caso/caso_clinico_radiologia583.txt', './llm-dev/extra50_gpt/caso/caso_clinico_radiologia584.txt', './llm-dev/extra50_gpt/caso/caso_clinico_radiologia621.txt', './llm-dev/extra50_gpt/caso/caso_clinico_radiologia622.txt', './llm-dev/extra50_gpt/caso/caso_clinico_radiologia623.txt', './llm-dev/extra50_gpt/caso/caso_clinico_radiologia624.txt', './llm-dev/extra50_gpt/caso/caso_clinico_radiologia625.txt', './llm-dev/extra50_gpt/caso/caso_clinico_radiologia626.txt', './llm-dev/extra50_gpt/caso/caso_clinico_radiologia657.txt', './llm-dev/extra50_gpt/caso/caso_clinico_radiologia658.txt', './llm-dev/extra50_gpt/caso/caso_clinico_radiologia659.txt', './llm-dev/extra50_gpt/caso/caso_clinico_radiologia660.txt', './llm-dev/extra50_gpt/caso/caso_clinico_radiologia661.txt', './llm-dev/extra50_gpt/caso/caso_clinico_radiologia662.txt', './llm-dev/extra50_gpt/caso/caso_clinico_radiologia675.txt', './llm-dev/extra50_gpt/caso/caso_clinico_radiologia676.txt', './llm-dev/extra50_gpt/caso/caso_clinico_radiologia677.txt', './llm-dev/extra50_gpt/caso/caso_clinico_radiologia678.txt', './llm-dev/extra50_gpt/caso/caso_clinico_radiologia679.txt', './llm-dev/extra50_gpt/caso/caso_clinico_radiologia680.txt']\n"
     ]
    }
   ],
   "source": [
    "directory_unsorted = os.listdir(base_dir)\n",
    "dir = []\n",
    "for file in directory_unsorted:\n",
    "    if file.endswith('.txt'):\n",
    "        dir.append(os.path.join(base_dir, file))\n",
    "textfiles = sorted(dir)\n",
    "print(textfiles)\n",
    "\n",
    "batchno = 0"
   ]
  },
  {
   "cell_type": "code",
   "execution_count": 93,
   "metadata": {},
   "outputs": [
    {
     "name": "stdout",
     "output_type": "stream",
     "text": [
      "---./llm-dev/extra50_gpt/caso/caso_clinico_radiologia679.txt---\n",
      "Paciente de 47 años de la unidad de cuidados intensivos con cuadro neurológico que se etiqueta de encefalopatía hepática con mejoría parcial tras administración de corticoides. Durante el ingreso, el cuadro neurológico sigue evolucionando y la situación clínica empeora, con hemiparesia derecha, disminución del nivel de conciencia y crisis convulsiva.\n",
      "\n",
      "TC de cráneo: Focos hipodensos, alguno con centro hiperdenso, de distribución córtico-subcortical compatibles con infartos, algunos de ellos hemorrágicos en relación con vasculitis, probablemente autoinmune, en el contexto de hepatitis AI. TC y rx simple de tórax: Infiltrado con cavitación asociada, de paredes gruesas e irregulares en relación con abceso/neumonía necrotizante. Neumotorax derecho.\n",
      "---./llm-dev/extra50_gpt/caso/caso_clinico_radiologia680.txt---\n",
      "Varón de 39 años que acude al servicio de urgencias por dolor en flanco derecho con leucocitosis y sin fiebre.\n",
      "\n",
      "Ecografía y TC abdominopélvico: Cambios inflamatorios pericecales y en gotiera parietocólica derecha. Apéndice cecal de hasta 7 mm con apendicolito en su interior. En ausencia de otra causa visualizada, estos hallazgos, podrían estar en relación con apendicitis aguda incipiente como primera posibilidad.\n",
      "\n"
     ]
    }
   ],
   "source": [
    "# split the text files into batches of 3 so i dont waste my money on testing\n",
    "textfile_batches = [textfiles[i:i+2] for i in range(1, len(textfiles), 2)]\n",
    "batchno = 11\n",
    "# done 0 1 2 3\n",
    "batch = textfile_batches[batchno]\n",
    "\n",
    "# get the last 2\n",
    "# batch = textfiles[-2:]\n",
    "\n",
    "# get the three text files to be annotated\n",
    "textfile1 = open(batch[0], 'r').read()\n",
    "textfile2 = open(batch[1], 'r').read()\n",
    "# textfile3 = open(batch[2], 'r').read()\n",
    "\n",
    "# create the prompt to copy into Chat GPT 4 to annotate the three text files which will be copied in the way they did before\n",
    "prompt = f\"\"\"---{batch[0]}---\n",
    "{textfile1}\n",
    "---{batch[1]}---\n",
    "{textfile2}\n",
    "\"\"\"\n",
    "\n",
    "print(prompt)"
   ]
  },
  {
   "cell_type": "code",
   "execution_count": 94,
   "metadata": {},
   "outputs": [
    {
     "name": "stdout",
     "output_type": "stream",
     "text": [
      "Annotated file saved to ./llm-dev/extra50_gpt/caso/caso_clinico_radiologia680.ann\n"
     ]
    }
   ],
   "source": [
    "# Get the three text files to be annotated\n",
    "textfile1 = open(batch[0], 'r').read()\n",
    "textfile2 = open(batch[1], 'r').read()\n",
    "# textfile3 = open(batch[2], 'r').read()\n",
    "\n",
    "# input the three gpt responses\n",
    "gpt_response0 = \"\"\"T1\tBACKGROUND 0 13\tNiño de 4 años\n",
    "T2\tCONDITION 57 88\tneumonía resistente a tratamiento antibiótico\n",
    "T3\tPROCEDURE 90 134\tcolocación de drenaje pleural\n",
    "T4\tTEST 136 145\tECOGRAFÍA\n",
    "T5\tFINDING 147 236\tConsolidación de la base pulmonar derecha, imágenes quísticas en su interior, mínimo derrame pleural\n",
    "T6\tCONDITION 238 257\tneumonía necrotizante\n",
    "T7\tTEST 261 273\tTC pulmonar\n",
    "T8\tTEST 275 285\tTC DE TÓRAX\n",
    "T9\tFINDING 287 531\tMasa en base pulmonar derecha, sólida y densidad heterogénea con áreas hipodensas y aporte vascular sistémico\n",
    "T10\tPROCEDURE 533 574\tintervenido quirúrgicamente\n",
    "T11\tFINDING 576 634\tanálisis anatomopatológico confirmó secuestro intralobar\n",
    "\"\"\"\n",
    "gpt_response1 = \"\"\"T1\tBACKGROUND 0 16\tVarón de 39 años\n",
    "T2\tSYMPTOM 43 64\tdolor en flanco derecho\n",
    "T3\tFINDING 66 78\tleucocitosis\n",
    "T4\tTEST 80 108\tEcografía y TC abdominopélvico\n",
    "T5\tFINDING 110 324\tCambios inflamatorios pericecales y en gotiera parietocólica derecha, Apéndice cecal de hasta 7 mm con apendicolito en su interior\n",
    "T6\tCONDITION 326 375\tapendicitis aguda incipiente\n",
    "\"\"\"\n",
    "# gpt_response2 = \"\"\"\"\"\"\n",
    "\n",
    "annotate_file(batch[0], gpt_response0)\n",
    "annotate_file(batch[1], gpt_response1)\n",
    "# annotate_file(batch[2], gpt_response2)"
   ]
  }
 ],
 "metadata": {
  "kernelspec": {
   "display_name": "Python 3",
   "language": "python",
   "name": "python3"
  },
  "language_info": {
   "codemirror_mode": {
    "name": "ipython",
    "version": 3
   },
   "file_extension": ".py",
   "mimetype": "text/x-python",
   "name": "python",
   "nbconvert_exporter": "python",
   "pygments_lexer": "ipython3",
   "version": "3.11.3"
  }
 },
 "nbformat": 4,
 "nbformat_minor": 2
}
