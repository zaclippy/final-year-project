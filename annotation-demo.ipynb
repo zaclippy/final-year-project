{
 "cells": [
  {
   "cell_type": "code",
   "execution_count": 1,
   "metadata": {},
   "outputs": [
    {
     "ename": "ModuleNotFoundError",
     "evalue": "No module named 'spacy'",
     "output_type": "error",
     "traceback": [
      "\u001b[0;31m---------------------------------------------------------------------------\u001b[0m",
      "\u001b[0;31mModuleNotFoundError\u001b[0m                       Traceback (most recent call last)",
      "Cell \u001b[0;32mIn[1], line 1\u001b[0m\n\u001b[0;32m----> 1\u001b[0m \u001b[38;5;28;01mimport\u001b[39;00m \u001b[38;5;21;01mspacy\u001b[39;00m\n\u001b[1;32m      3\u001b[0m \u001b[38;5;66;03m# Load the Spanish language model\u001b[39;00m\n\u001b[1;32m      4\u001b[0m nlp \u001b[38;5;241m=\u001b[39m spacy\u001b[38;5;241m.\u001b[39mload(\u001b[38;5;124m'\u001b[39m\u001b[38;5;124mes_core_news_sm\u001b[39m\u001b[38;5;124m'\u001b[39m)\n",
      "\u001b[0;31mModuleNotFoundError\u001b[0m: No module named 'spacy'"
     ]
    }
   ],
   "source": [
    "import spacy\n",
    "\n",
    "# Load the Spanish language model\n",
    "nlp = spacy.load('es_core_news_sm')\n",
    "\n",
    "# Define a sample line of fake Spanish clinical notes\n",
    "text = \"El paciente presenta dolor abdominal y fiebre.\"\n",
    "print(\"--- Original text ---\\n\", text)\n",
    "\n",
    "# Process the text with the spaCy pipeline\n",
    "doc = nlp(text)\n",
    "\n",
    "# Print the tokens recognized by the tokenizer\n",
    "print(\"\\n--- Tokens ---\")\n",
    "for token in doc:\n",
    "    print(token.text, token.pos_, token.dep_)\n",
    "\n",
    "# iterate over the predicted entities\n",
    "for ent in doc.ents:\n",
    "    # \n",
    "    print(ent.text, ent.label_)\n"
   ]
  },
  {
   "cell_type": "code",
   "execution_count": 20,
   "metadata": {},
   "outputs": [
    {
     "name": "stdout",
     "output_type": "stream",
     "text": [
      "--- Filtered tokens ---\n",
      "paciente NOUN nsubj\n",
      "presenta VERB ROOT\n",
      "dolor NOUN obj\n",
      "abdominal ADJ amod\n",
      "fiebre NOUN conj\n"
     ]
    }
   ],
   "source": [
    "# Remove determiners, conjunctions, and punctuation\n",
    "filtered = [token for token in doc if not token.is_stop and not token.is_punct and token.pos_ != 'DET' and token.pos_ != 'CONJ']\n",
    "\n",
    "# Print the filtered tokens \n",
    "print(\"--- Filtered tokens ---\")\n",
    "for token in filtered:\n",
    "    print(token.text, token.pos_, token.dep_)"
   ]
  }
 ],
 "metadata": {
  "kernelspec": {
   "display_name": "base",
   "language": "python",
   "name": "python3"
  },
  "language_info": {
   "codemirror_mode": {
    "name": "ipython",
    "version": 3
   },
   "file_extension": ".py",
   "mimetype": "text/x-python",
   "name": "python",
   "nbconvert_exporter": "python",
   "pygments_lexer": "ipython3",
   "version": "3.11.5"
  }
 },
 "nbformat": 4,
 "nbformat_minor": 2
}
