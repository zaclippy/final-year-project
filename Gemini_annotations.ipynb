{
 "cells": [
  {
   "cell_type": "code",
   "execution_count": 2,
   "metadata": {},
   "outputs": [],
   "source": [
    "import os\n",
    "\n",
    "# Set the path to the data directory\n",
    "base_dir = './llm-dev/onco-gemini'"
   ]
  },
  {
   "cell_type": "code",
   "execution_count": 3,
   "metadata": {},
   "outputs": [],
   "source": [
    "def annotate_file(text_file_path, gpt_response):\n",
    "    # convert the text file to its annotation file\n",
    "    ann_file_path = text_file_path.replace('.txt', '.ann')\n",
    "    with open(ann_file_path, 'w') as file:\n",
    "        file.write(gpt_response)\n",
    "    print(f'Annotated file saved to {ann_file_path}')\n",
    "    "
   ]
  },
  {
   "cell_type": "code",
   "execution_count": 4,
   "metadata": {},
   "outputs": [
    {
     "name": "stdout",
     "output_type": "stream",
     "text": [
      "['./llm-dev/onco-gemini/cc_onco215.txt', './llm-dev/onco-gemini/cc_onco224.txt', './llm-dev/onco-gemini/cc_onco229.txt', './llm-dev/onco-gemini/cc_onco236.txt', './llm-dev/onco-gemini/cc_onco243.txt', './llm-dev/onco-gemini/cc_onco244.txt', './llm-dev/onco-gemini/cc_onco246.txt', './llm-dev/onco-gemini/cc_onco249.txt', './llm-dev/onco-gemini/cc_onco252.txt', './llm-dev/onco-gemini/cc_onco253.txt', './llm-dev/onco-gemini/cc_onco254.txt', './llm-dev/onco-gemini/cc_onco256.txt', './llm-dev/onco-gemini/cc_onco257.txt', './llm-dev/onco-gemini/cc_onco258.txt', './llm-dev/onco-gemini/cc_onco261.txt', './llm-dev/onco-gemini/cc_onco263.txt', './llm-dev/onco-gemini/cc_onco272.txt', './llm-dev/onco-gemini/cc_onco273.txt', './llm-dev/onco-gemini/cc_onco274.txt', './llm-dev/onco-gemini/cc_onco293.txt', './llm-dev/onco-gemini/cc_onco296.txt', './llm-dev/onco-gemini/cc_onco297.txt', './llm-dev/onco-gemini/cc_onco299.txt', './llm-dev/onco-gemini/cc_onco303.txt', './llm-dev/onco-gemini/cc_onco309.txt', './llm-dev/onco-gemini/cc_onco321.txt', './llm-dev/onco-gemini/cc_onco322.txt', './llm-dev/onco-gemini/cc_onco325.txt', './llm-dev/onco-gemini/cc_onco334.txt', './llm-dev/onco-gemini/cc_onco335.txt', './llm-dev/onco-gemini/cc_onco336.txt', './llm-dev/onco-gemini/cc_onco340.txt', './llm-dev/onco-gemini/cc_onco341.txt', './llm-dev/onco-gemini/cc_onco342.txt', './llm-dev/onco-gemini/cc_onco343.txt', './llm-dev/onco-gemini/cc_onco346.txt', './llm-dev/onco-gemini/cc_onco348 19.19.00.txt', './llm-dev/onco-gemini/cc_onco354 19.19.00.txt', './llm-dev/onco-gemini/cc_onco355 19.19.00.txt', './llm-dev/onco-gemini/cc_onco357.txt', './llm-dev/onco-gemini/cc_onco367.txt', './llm-dev/onco-gemini/cc_onco368.txt', './llm-dev/onco-gemini/cc_onco369.txt', './llm-dev/onco-gemini/cc_onco372.txt', './llm-dev/onco-gemini/cc_onco378.txt', './llm-dev/onco-gemini/cc_onco381.txt', './llm-dev/onco-gemini/cc_onco384.txt', './llm-dev/onco-gemini/cc_onco388.txt', './llm-dev/onco-gemini/cc_onco391.txt', './llm-dev/onco-gemini/cc_onco392.txt', './llm-dev/onco-gemini/cc_onco393.txt', './llm-dev/onco-gemini/cc_onco400.txt', './llm-dev/onco-gemini/cc_onco401.txt', './llm-dev/onco-gemini/cc_onco402.txt']\n"
     ]
    }
   ],
   "source": [
    "directory_unsorted = os.listdir(base_dir)\n",
    "dir = []\n",
    "for file in directory_unsorted:\n",
    "    if file.endswith('.txt'):\n",
    "        dir.append(os.path.join(base_dir, file))\n",
    "textfiles = sorted(dir)\n",
    "print(textfiles)\n",
    "\n",
    "gemini_batchno = 0"
   ]
  },
  {
   "cell_type": "code",
   "execution_count": 5,
   "metadata": {},
   "outputs": [
    {
     "name": "stdout",
     "output_type": "stream",
     "text": [
      "---./llm-dev/onco-gemini/cc_onco296.txt---\n",
      "Anamnesis\n",
      "Mujer de 46 años, sin alergias medicamentosas conocidas ni hábitos tóxicos, con antecedentes personales de enfermedad de Graves-Basedow tratada con I131 en 2007 (desde entonces con hipotiroidismo iatrogénico en tratamiento sustitutivo), histerectomía por miomas en el 2008 y antecedentes ginecológicos de G2A0P2.\n",
      "Diagnosticada en septiembre de 2010 de un macroadenoma hipofisario (2,5x2,0x2,3 cm) secretor de prolactina (PRL), con niveles en el momento del diagnóstico de 434 ng/mL y con anatomía patológica compatible con adenoma de hipófisis que presentaba una expresión difusa de PRL y expresión focal de GH. El diagnóstico tuvo lugar en el contexto de clínica compresiva (pérdida de visión en el OI) y galactorrea de un mes de evolución. Se realizó cirugía en octubre de ese mismo año mediante resección transesfenoidal con remisión de la clínica y normalización de los niveles de PRL.\n",
      "\n",
      "En junio de 2013, por cuadro de debilidad generalizada de 2 meses de evolución, se realiza RMN donde se objetiva un nódulo tumoral intraselar compatible con recidiva de adenoma hipofisario (1,3x0,8x1 cm) y aumento de nuevo de las cifras de PRL (350 ng/mL). Inicia tratamiento con cabergolina, por parte de Endocrinología, sin respuesta, siendo necesaria la reintervención con radiocirugía en enero de 2014 por continuar con progresión clínico-radiológica, con el añadido de aparición de episodios de cefalea resistente a opioides mayores y pérdida progresiva de la agudeza visual, más marcada en el OD.\n",
      "\n",
      "Posteriormente, la paciente presentó dos nuevas recidivas clínico-analítico-radiológicas a lo largo del 2015, con nueva elevación de las cifras de PRL (> 2000 ng/mL), clínica compresiva caracterizada por episodios de cefalea intensa fármaco-resistente y pérdida de visión progresiva del OD, con presencia de masa tumoral en la RMN, con un tamaño aproximado del tumor, en ambas ocasiones, de 5x3x3 cm.\n",
      "Fueron necesarias 2 intervenciones más (en febrero y en julio) de ese mismo año, en las que solo se pudo realizar resección parcial de la masa. La anatomía patológica fue compatible, en ambas ocasiones, con prolactinoma recidivante, con inmunohistoquímica positiva para PRL y un Ki-67 del 11,6% en la primera ocasión, y positividad para PRL y sinaptofisina (SS) en la última muestra.\n",
      "Debido al inicio, tras estas dos últimas cirugías, de nuevo cuadro clínico compresivo con desarrollo de ceguera completa y evidencia de progresión radiológica, se decide, en comité de neurooncología, valoración por otro centro hospitalario. La paciente se interviene en el Hospital Ramón y Cajal de Madrid en diciembre del 2015, a través de un abordaje endoscópico transesfenoidal con extirpación de la porción intercarotídea de la lesión (un 50% de la tumoración, aproximadamente) con A.P. compatible con tumor hipofisiario altamente agresivo que expresa receptores de SS. Tras el vaciamiento intratumoral paliativo se decide planificar, en nuestro centro, un tratamiento de uso compasivo, referenciando varias publicaciones y usando las indicaciones de posología de la ficha técnica determinadas para otros tipos de tumores cerebrales. Iniciamos, así, en enero de 2016, tratamiento farmacológico con temozolamida 75 mg/m2 (120 mg/24h) diario durante 42 días, más concomitancia con RT (irradiación a fraccionamento convencional).\n",
      "\n",
      "Exploración física\n",
      "PS-1. Aceptable estado general, destacando una importante pérdida de la agudeza visual y oftalmoparesia del OI y ceguera y oftalmoplejía del OD. Resto de la exploración sin hallazgos de interés.\n",
      "\n",
      "Pruebas complementarias\n",
      "Laboratorio: Destaca una anemia microcítica permanente (previa al inicio del tratamiento) con Hb en torno a 9-10 g/dl en todas las determinaciones (VCM 80, HCM normal) y linfopenia leve en dos de los controles durante el tratamiento quimioterápico, con resto de hemograma y bioquímica normales.\n",
      "Últimos niveles determinados de PRL (mayo de 2016) < 60 ng/Ml. Última RMN de control (Junio 2016): Mejoría radiológica muy significativa, sin captación de contraste que sugiera presencia de resto/recidiva tumoral. Únicamente se observan cambios secundarios al tratamiento.\n",
      "\n",
      "Diagnóstico\n",
      "Macroprolactinoma recidivante con cirugía subóptima en tratamiento con temozolamida.\n",
      "\n",
      "Tratamiento\n",
      "Tras el tratamiento inicial diario con temozolamida durante 42 días más 8 sesiones de RT concomitante, se procedió a un descanso de 4 semanas, reanudando la TMZ en monoterapia con el siguiente plan terapéutico: Se programaron 6 ciclos, cada uno de 28 días de duración, tomando la el fármaco durante los 5 primeros días a dosis de 150 mg/m2 (240 mg diarios) y descansando los 23 días siguientes. Actualmente la paciente se encuentra en el tercer ciclo, con muy buena tolerancia al fármaco desde el comienzo y con solo un retraso en el inicio de este último ciclo por linfopenia grado II e infección respiratoria\n",
      "\n",
      "Evolución\n",
      "Clínicamente la paciente ha experimentado leve mejoría de la pérdida de visión bilateral y, tanto la cefalea como los problemas endocrinológicos derivados del tumor, se encuentran bien controlados con tratamiento sintomático concomitante (opioides mayores para tratar la cefalea y uso de fármacos como el octeótrido para corregir los desajustes de la GH, asintomáticos, que se han producido en los últimos controles).\n",
      " \n"
     ]
    }
   ],
   "source": [
    "# split the text files into batches of 3 so i dont waste my money on testing\n",
    "textfile_batches = [textfiles[i:i+1] for i in range(1, len(textfiles), 1)]\n",
    "gemini_file = 20\n",
    "# done up to 20\n",
    "\n",
    "batch = textfiles[gemini_file]\n",
    "\n",
    "textfile = open(batch, 'r').read()\n",
    "\n",
    "# create the prompt to copy into Chat GPT 4 to annotate the three text files which will be copied in the way they did before\n",
    "prompt = f\"\"\"---{batch}---\n",
    "{textfile} \"\"\"\n",
    "\n",
    "print(prompt)"
   ]
  },
  {
   "cell_type": "code",
   "execution_count": 6,
   "metadata": {},
   "outputs": [
    {
     "name": "stdout",
     "output_type": "stream",
     "text": [
      "Annotated file saved to ./llm-dev/onco-gemini/cc_onco296.ann\n"
     ]
    }
   ],
   "source": [
    "# Get the three text files to be annotated\n",
    "textfile1 = open(batch, 'r').read()\n",
    "# textfile2 = open(batch[1], 'r').read()\n",
    "# textfile3 = open(batch[2], 'r').read()\n",
    "\n",
    "# input the three gpt responses\n",
    "gpt_response0 = \"\"\"T1  BACKGROUND 2 15 Anamnesis\n",
    "T2  BACKGROUND 16 51 Mujer de 46 años, sin alergias medicamentosas conocidas ni hábitos tóxicos, con antecedentes personales de enfermedad de Graves-Basedow tratada con I131 en 2007 (desde entonces con hipotiroidismo iatrogénico en tratamiento sustitutivo), histerectomía por miomas en el 2008 y antecedentes ginecológicos de G2A0P2.\n",
    "T3  CONDITION 52 93 enfermedad de Graves-Basedow\n",
    "T4  PROCEDURE 94 123 I131 en 2007\n",
    "T5  CONDITION 124 153 hipotiroidismo iatrogénico\n",
    "T6  PROCEDURE 154 173 tratamiento sustitutivo\n",
    "T7  CONDITION 174 186 histerectomía por miomas en el 2008\n",
    "T8  BACKGROUND 187 214 Diagnosticada en septiembre de 2010 de un macroadenoma hipofisario (2,5x2,0x2,3 cm) secretor de prolactina (PRL), con niveles en el momento del diagnóstico de 434 ng/mL y con anatomía patológica compatible con adenoma de hipófisis que presentaba una expresión difusa de PRL y expresión focal de GH.\n",
    "T9  CONDITION 215 243 macroadenoma hipofisario\n",
    "T10  ANATOMICAL 244 253 hipófisis\n",
    "T11  CONDITION 254 261 adenoma de hipófisis\n",
    "T12  FINDING 262 286 expresión difusa de PRL\n",
    "T13  FINDING 287 301 expresión focal de GH\n",
    "T14  SYMPTOM 302 320 clínica compresiva\n",
    "T15  SYMPTOM 321 336 pérdida de visión en el OI\n",
    "T16  SYMPTOM 337 350 galactorrea\n",
    "T17  PROCEDURE 351 367 cirugía en octubre de ese mismo año\n",
    "T18  PROCEDURE 368 393 resección transesfenoidal\n",
    "T19  FINDING 394 409 remisión de la clínica\n",
    "T20  FINDING 410 434 normalización de los niveles de PRL\n",
    "T21  BACKGROUND 435 465 En junio de 2013, por cuadro de debilidad generalizada de 2 meses de evolución, se realiza RMN donde se objetiva un nódulo tumoral intraselar compatible con recidiva de adenoma hipofisario (1,3x0,8x1 cm) y aumento de nuevo de las cifras de PRL (350 ng/mL).\n",
    "T22  SYMPTOM 466 491 debilidad generalizada\n",
    "T23  TEST 492 498 RMN\n",
    "T24  FINDING 499 524 nódulo tumoral intraselar\n",
    "T25  CONDITION 525 544 recidiva de adenoma hipofisario\n",
    "T26  FINDING 545 569 1,3x0,8x1 cm\n",
    "T27  FINDING 570 594 aumento de nuevo de las cifras de PRL\n",
    "T28  FINDING 595 619 350 ng/mL\n",
    "T29  PROCEDURE 620 641 tratamiento con cabergolina\n",
    "T30  SPECIALIST 642 652 Endocrinología\n",
    "T31  FINDING 653 665 sin respuesta\n",
    "T32  PROCEDURE 666 680 reintervención con radiocirugía\n",
    "T33  DATE 681 694 enero de 2014\n",
    "T34  SYMPTOM 695 721 progresión clínico-radiológica\n",
    "T35  SYMPTOM 722 737 aparición de episodios de cefalea resistente a opioides mayores\n",
    "T36  SYMPTOM 738 765 pérdida progresiva de la agudeza visual\n",
    "T37  SYMPTOM 766 780 más\n",
    "\"\"\"\n",
    "\n",
    "annotate_file(batch, gpt_response0)"
   ]
  },
  {
   "cell_type": "code",
   "execution_count": null,
   "metadata": {},
   "outputs": [],
   "source": [
    "# split the text files into batches of 3 \n",
    "textfile_batches = [textfiles[i:i+1] for i in range(1, len(textfiles), 3)]\n",
    "batchno = 0\n",
    "batch = textfile_batches[batchno]\n",
    "\n",
    "textfile1 = open(batch[0], 'r').read()\n",
    "textfile2 = open(batch[1], 'r').read()\n",
    "textfile3 = open(batch[2], 'r').read()\n",
    "\n",
    "# create the prompt to copy into Chat GPT\n",
    "prompt = f\"\"\"---{batch[0]}---\n",
    "{textfile1}\n",
    "---{batch[1]}---\n",
    "{textfile2}\n",
    "---{batch[2]}---\n",
    "{textfile3}\"\"\"\n",
    "\n",
    "print(prompt)"
   ]
  }
 ],
 "metadata": {
  "kernelspec": {
   "display_name": "Python 3",
   "language": "python",
   "name": "python3"
  },
  "language_info": {
   "codemirror_mode": {
    "name": "ipython",
    "version": 3
   },
   "file_extension": ".py",
   "mimetype": "text/x-python",
   "name": "python",
   "nbconvert_exporter": "python",
   "pygments_lexer": "ipython3",
   "version": "3.11.3"
  }
 },
 "nbformat": 4,
 "nbformat_minor": 2
}
